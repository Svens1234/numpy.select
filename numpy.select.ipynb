{
 "cells": [
  {
   "cell_type": "code",
   "execution_count": 1,
   "id": "5d2bffa2",
   "metadata": {},
   "outputs": [],
   "source": [
    "import numpy as np"
   ]
  },
  {
   "cell_type": "code",
   "execution_count": 2,
   "id": "9b0e565b",
   "metadata": {},
   "outputs": [],
   "source": [
    "x = np.arange(6)"
   ]
  },
  {
   "cell_type": "code",
   "execution_count": 3,
   "id": "59d34ea7",
   "metadata": {},
   "outputs": [
    {
     "data": {
      "text/plain": [
       "array([0, 1, 2, 3, 4, 5])"
      ]
     },
     "execution_count": 3,
     "metadata": {},
     "output_type": "execute_result"
    }
   ],
   "source": [
    "x"
   ]
  },
  {
   "cell_type": "code",
   "execution_count": 4,
   "id": "00888eb8",
   "metadata": {},
   "outputs": [],
   "source": [
    "condlist = [x<3, x>3]\n",
    "\n"
   ]
  },
  {
   "cell_type": "code",
   "execution_count": 5,
   "id": "db2f34b9",
   "metadata": {},
   "outputs": [
    {
     "data": {
      "text/plain": [
       "[array([ True,  True,  True, False, False, False]),\n",
       " array([False, False, False, False,  True,  True])]"
      ]
     },
     "execution_count": 5,
     "metadata": {},
     "output_type": "execute_result"
    }
   ],
   "source": [
    "condlist"
   ]
  },
  {
   "cell_type": "code",
   "execution_count": 6,
   "id": "adb58988",
   "metadata": {},
   "outputs": [],
   "source": [
    "choicelist = [x, x**2]"
   ]
  },
  {
   "cell_type": "code",
   "execution_count": 7,
   "id": "5fc52bb3",
   "metadata": {},
   "outputs": [
    {
     "data": {
      "text/plain": [
       "[array([0, 1, 2, 3, 4, 5]), array([ 0,  1,  4,  9, 16, 25])]"
      ]
     },
     "execution_count": 7,
     "metadata": {},
     "output_type": "execute_result"
    }
   ],
   "source": [
    "choicelist"
   ]
  },
  {
   "cell_type": "code",
   "execution_count": 8,
   "id": "ca93b270",
   "metadata": {},
   "outputs": [
    {
     "data": {
      "text/plain": [
       "array([ 0,  1,  2, 42, 16, 25])"
      ]
     },
     "execution_count": 8,
     "metadata": {},
     "output_type": "execute_result"
    }
   ],
   "source": [
    "np.select(condlist, choicelist, 42)"
   ]
  },
  {
   "cell_type": "code",
   "execution_count": 9,
   "id": "582b8786",
   "metadata": {},
   "outputs": [],
   "source": [
    "condlist = [x<=4, x>3]"
   ]
  },
  {
   "cell_type": "code",
   "execution_count": 10,
   "id": "d598f8c2",
   "metadata": {},
   "outputs": [
    {
     "data": {
      "text/plain": [
       "[array([ True,  True,  True,  True,  True, False]),\n",
       " array([False, False, False, False,  True,  True])]"
      ]
     },
     "execution_count": 10,
     "metadata": {},
     "output_type": "execute_result"
    }
   ],
   "source": [
    "condlist"
   ]
  },
  {
   "cell_type": "code",
   "execution_count": 11,
   "id": "0543054a",
   "metadata": {},
   "outputs": [],
   "source": [
    "choicelist = [x, x**2]"
   ]
  },
  {
   "cell_type": "code",
   "execution_count": 12,
   "id": "1cc10970",
   "metadata": {},
   "outputs": [
    {
     "data": {
      "text/plain": [
       "[array([0, 1, 2, 3, 4, 5]), array([ 0,  1,  4,  9, 16, 25])]"
      ]
     },
     "execution_count": 12,
     "metadata": {},
     "output_type": "execute_result"
    }
   ],
   "source": [
    "choicelist"
   ]
  },
  {
   "cell_type": "code",
   "execution_count": 13,
   "id": "a256286a",
   "metadata": {},
   "outputs": [
    {
     "data": {
      "text/plain": [
       "array([ 0,  1,  2,  3,  4, 25])"
      ]
     },
     "execution_count": 13,
     "metadata": {},
     "output_type": "execute_result"
    }
   ],
   "source": [
    "np.select(condlist, choicelist, 55)"
   ]
  },
  {
   "cell_type": "code",
   "execution_count": null,
   "id": "9c5598c3",
   "metadata": {},
   "outputs": [],
   "source": [
    "#Return an array drawn from elements in choicelist, depending on conditions."
   ]
  }
 ],
 "metadata": {
  "kernelspec": {
   "display_name": "Python 3 (ipykernel)",
   "language": "python",
   "name": "python3"
  },
  "language_info": {
   "codemirror_mode": {
    "name": "ipython",
    "version": 3
   },
   "file_extension": ".py",
   "mimetype": "text/x-python",
   "name": "python",
   "nbconvert_exporter": "python",
   "pygments_lexer": "ipython3",
   "version": "3.10.5"
  }
 },
 "nbformat": 4,
 "nbformat_minor": 5
}
